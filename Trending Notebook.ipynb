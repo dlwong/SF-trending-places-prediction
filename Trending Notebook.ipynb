{
 "cells": [
  {
   "cell_type": "markdown",
   "metadata": {},
   "source": [
    "## Trending Places in SF based on time\n",
    "<b><H10>Objective: </H10></b> I am trying to predict in what areas of SF will be trending during certain days/times based on foursquare data<p>"
   ]
  },
  {
   "cell_type": "code",
   "execution_count": 133,
   "metadata": {
    "collapsed": true
   },
   "outputs": [],
   "source": [
    "import pandas as pd\n",
    "from sklearn.linear_model import LinearRegression\n",
    "from sklearn.cross_validation import train_test_split\n",
    "from sklearn import metrics\n",
    "from sklearn import tree\n",
    "import seaborn as sns\n",
    "import statsmodels.formula.api as smf\n",
    "import boto\n",
    "from boto.s3.connection import S3Connection\n",
    "import json\n",
    "from sklearn.cluster import KMeans\n",
    "import matplotlib.pyplot as plt\n",
    "\n",
    "%matplotlib inline  "
   ]
  },
  {
   "cell_type": "code",
   "execution_count": 2,
   "metadata": {
    "collapsed": false
   },
   "outputs": [],
   "source": [
    "#GET S3 Connection Ready"
   ]
  },
  {
   "cell_type": "code",
   "execution_count": 3,
   "metadata": {
    "collapsed": true
   },
   "outputs": [],
   "source": [
    "#creating the dataframe for data\n",
    "def create_dataframe(text_file):\n",
    "    parsed_data = []\n",
    "    for record in range(len(text_file['venues'])):\n",
    "        current_record = text_file['venues'][record]\n",
    "        values = {\n",
    "        'venue_name': current_record['name'],\n",
    "        'checkin_count': current_record['hereNow']['count'],\n",
    "        'postal_code': current_record['location'].get('postalCode', '00000'),\n",
    "        'lat': current_record['location']['lat'],\n",
    "        'lng': current_record['location']['lng'],\n",
    "        'tips_count': current_record['stats']['tipCount'],\n",
    "        'lifetime_checkins': current_record['stats']['checkinsCount'],\n",
    "        'lifetime_unique_users': current_record['stats']['usersCount'],\n",
    "        'category': current_record['categories'][0]['shortName']}\n",
    "        parsed_data.append(values)\n",
    "    return pd.DataFrame(parsed_data)"
   ]
  },
  {
   "cell_type": "code",
   "execution_count": 4,
   "metadata": {
    "collapsed": true
   },
   "outputs": [],
   "source": [
    "#Read Files into dataframes\n",
    "key_names = []\n",
    "for key in bucket.list():\n",
    "   key_names.append(key.name.encode('utf-8'))\n",
    "\n",
    "dataframes  = []\n",
    "\n",
    "for key in key_names:\n",
    "    a_file = bucket.get_key(key)\n",
    "    file_name = '/foursquare_files/foursquarefile.txt'\n",
    "    a_file.get_contents_to_filename(file_name)\n",
    "    text = open(file_name).read()\n",
    "    text = json.loads(text)\n",
    "    temp_df = create_dataframe(text)\n",
    "    temp_df['datetime'] = key\n",
    "    dataframes.append(temp_df)"
   ]
  },
  {
   "cell_type": "code",
   "execution_count": 5,
   "metadata": {
    "collapsed": false
   },
   "outputs": [],
   "source": [
    "#cleaning up data\n",
    "final_Df = pd.concat(dataframes)\n",
    "final_Df['datetime'] = final_Df['datetime'].str.replace('.txt','')\n",
    "final_Df['datetime'] = final_Df['datetime'].str.replace(':T:',' ')\n",
    "final_Df['category']=final_Df['category'].map(lambda x: x.encode('utf-8'))\n",
    "final_Df['datetime'] = pd.to_datetime(final_Df['datetime'])\n",
    "final_Df['time_bucket']=final_Df['datetime'].map(lambda x: x.isoformat()[11:-6])"
   ]
  },
  {
   "cell_type": "code",
   "execution_count": null,
   "metadata": {
    "collapsed": true
   },
   "outputs": [],
   "source": [
    "df=final_Df"
   ]
  },
  {
   "cell_type": "markdown",
   "metadata": {},
   "source": [
    "## CLUSTERING"
   ]
  },
  {
   "cell_type": "code",
   "execution_count": null,
   "metadata": {
    "collapsed": false
   },
   "outputs": [],
   "source": [
    "# perform clustering with 2 clusters\n",
    "places_cluster = KMeans(n_clusters=2, init='random')\n",
    "places_cluster.fit(df.drop(df.columns[[0,2,3,6,9,10,11,12,13,14]], axis=1))\n",
    "y_kmeans = places_cluster.predict(df.drop(df.columns[[0,2,3,6,9,10,11,12,13,14]], axis=1))"
   ]
  },
  {
   "cell_type": "code",
   "execution_count": null,
   "metadata": {
    "collapsed": false
   },
   "outputs": [],
   "source": [
    "metrics.silhouette_score(df.drop(df.columns[[0,2,3,6,9,10,11,12,13,14]], axis=1), places_cluster.labels_, metric='euclidean')  "
   ]
  },
  {
   "cell_type": "code",
   "execution_count": null,
   "metadata": {
    "collapsed": false
   },
   "outputs": [],
   "source": [
    "# perform k means with up to 15 clusters\n",
    "k_rng = range(1,15)\n",
    "est = [KMeans(n_clusters = k).fit(df.drop(df.columns[[0,2,3,6,9,10,11,12,13,14]],axis=1)) for k in k_rng]"
   ]
  },
  {
   "cell_type": "code",
   "execution_count": null,
   "metadata": {
    "collapsed": false
   },
   "outputs": [],
   "source": [
    "plt.figure(figsize=(7, 8))\n",
    "plt.subplot(211)\n",
    "plt.title('Using the elbow method to inform k choice')\n",
    "plt.plot(k_rng[1:], silhouette_score, 'b*-')\n",
    "plt.xlim([1,15])\n",
    "plt.grid(True)\n",
    "plt.ylabel('Silhouette Coefficient')\n",
    "plt.plot(2,silhouette_score[0], 'o', markersize=12, markeredgewidth=1.5,\n",
    "markerfacecolor='None', markeredgecolor='r')"
   ]
  },
  {
   "cell_type": "code",
   "execution_count": 8,
   "metadata": {
    "collapsed": false
   },
   "outputs": [],
   "source": [
    "#~100 categories turned to ~10 instead\n",
    "unique_categories = list(df.category.unique())\n",
    "mapping = {\"Building\":\"Office\",\"Gym / Fitness\":\"Gym\",\"Cocktail\":\"Bar\",\"Mexican\":\"Restaurant\",\"Event Space\":\"Events\", \n",
    "           \"Dive Bar\":\"Bar\",\"City\":\"Other\",\"Cycle Studio\":\"Gym\",\"Tech Startup\":\"Office\",\"Non-Profit\":\"Office\",\n",
    "            \"Plaza\":\"Other\",\"Cineplex\":\"Movies\",\"Steakhouse\":\"Restaurant\",\"Lounge\":\"Bar\",\"Bowling Alley\":\"Other\",\n",
    "            \"Chinese\":\"Restaurant\",\"Asian\":\"Restaurant\",\"Italian\":\"Restaurant\",\"Yogurt\":\"Restaurant\",\"Arepas\":\"Restaurant\",\n",
    "            \"Sushi\":\"Restaurant\",\"Speakeasy\":\"Bar\",\"New American\":\"Restaurant\",\"Nightclub\":\"Bar\",\"Wine Bar\":\"Bar\",\n",
    "            \"Music Venue\":\"Events\",\"Coffee Shop\":\"Coffee\",\"Concert Hall\":\"Events\",\"Food Truck\":\"Restaurant\",\"Park\":\"Other\",\n",
    "            \"American\":\"Restaurant\",\"Mall\":\"Store\",\"Street Food Gathering\":\"Restaurant\",\"Japanese\":\"Restaurant\",\n",
    "            \"Food Court\":\"Restaurant\",\"Beer Garden\":\"Bar\",\"Southern / Soul\":\"Restaurant\",\"Theater\":\"Movies\",\n",
    "            \"Gastropub\":\"Bar\",\"Tacos\":\"Restaurant\",\"Apparel\":\"Store\",\"Pizza\":\"Restaurant\",\"Hawaiian\":\"Restaurant\",\n",
    "            'Peruvian':'Restaurant','Other Event':'Other','Movie Theater':'Movies','Ice Cream':'Restaurant',\n",
    "            'Souvlaki':'Restaurant','Hotel':'Other','Food & Drink':'Restaurant','Bubble Tea':'Restaurant','Art Gallery':'Museum','Noodles':'Restaurant',\n",
    "            'Grocery Store':'','Burgers':'Restaurant','City Hall':'Other','Bakery':'Restaurant',\n",
    "            'Breakfast':'Restaurant','Thai':'Restaurant','Sandwiches':'Restaurant','Electronics':'Store',\n",
    "            'Neighborhood':'Other',\n",
    "            'Rock Club':'Other','Gay Bar':'Bar','Karaoke':'Bar','Festival':'Events','Warehouse Store':'Store',\n",
    "            'Salon / Barbershop':'Salon','Indian':'Restaurant','Supermarket':'Store','Department Store':'Store',\n",
    "            'Art Museum':'Museum','Museum':'Museum',\"Women's Store\":'Store','Tea Room':'Restaurant',\n",
    "            'Residential':'Other','Hotel Bar':'Bar','Diner':'Restaurant','Convention Center':'Events',\n",
    "            'Synagogue':'Other','Smoothie Shop':'Restaurant','Fried Chicken':'Restaurant','Sporting Goods':'Store',\n",
    "            'French':'Restaurant','Organic Grocery':'Store','Donuts':'Restaurant',\n",
    "            'Yoga Studio':'Gym','Ramen':'Restaurant','Dance Studio':'Gym','BBQ':'Restaurant','Vietnamese':'Restaurant',\n",
    "            'Wings':'Restaurant','Whisky Bar':'Bar','Cantonese':'Restaurant','Coworking Space':'Other'\n",
    "          ,'Sports Bar':'Bar','Office':'Office','Brewery':'Bar','Train Station':'Other','Pub':'Bar'\n",
    "          ,'Winery':'Bar','Beer Store':'Bar','Caf\\xc3\\xa9':'Coffee', \"Bar\":\"Bar\"}\n",
    "\n",
    "\n",
    "df['mapped_category'] = df['category'].apply(lambda x: mapping[x])\n",
    "mapped_category_ints = {'Other':1, 'Office':2, 'Gym':3, 'Bar':4, 'Restaurant':5, 'Events':6, 'Movies':7,\n",
    "       'Coffee':8, 'Store':9, 'Museum':10, '':11, 'Salon':12}\n",
    "df['mapped_category_ints'] = df['mapped_category'].apply(lambda x: mapped_category_ints[x])"
   ]
  },
  {
   "cell_type": "code",
   "execution_count": null,
   "metadata": {
    "collapsed": false
   },
   "outputs": [],
   "source": [
    "#look at in excel\n",
    "writer = pd.ExcelWriter('output1.xlsx')\n",
    "df.to_excel(writer, 'Sheet1')\n",
    "writer.save()"
   ]
  },
  {
   "cell_type": "code",
   "execution_count": 11,
   "metadata": {
    "collapsed": false
   },
   "outputs": [],
   "source": [
    "df['category']=df['category'].map(lambda x: x.decode('utf-8'))"
   ]
  },
  {
   "cell_type": "code",
   "execution_count": 24,
   "metadata": {
    "collapsed": false
   },
   "outputs": [],
   "source": [
    "from sklearn.cross_validation import cross_val_score"
   ]
  },
  {
   "cell_type": "code",
   "execution_count": 115,
   "metadata": {
    "collapsed": true
   },
   "outputs": [],
   "source": [
    "output = pd.read_csv('/hw/output1.csv')"
   ]
  },
  {
   "cell_type": "code",
   "execution_count": 117,
   "metadata": {
    "collapsed": false
   },
   "outputs": [],
   "source": [
    "output['mapped_week']=output['week'].map({'Sunday':0, 'Monday':1,'Tuesday':2,'Wednesday':3\n",
    "                                          ,'Thursday':4,'Friday':5,'Saturday':6})"
   ]
  },
  {
   "cell_type": "code",
   "execution_count": 124,
   "metadata": {
    "collapsed": false
   },
   "outputs": [],
   "source": [
    "#dummy variable\n",
    "output['time_week']=output.time_bucket + output.mapped_week"
   ]
  },
  {
   "cell_type": "code",
   "execution_count": 121,
   "metadata": {
    "collapsed": false
   },
   "outputs": [
    {
     "data": {
      "text/html": [
       "<div>\n",
       "<table border=\"1\" class=\"dataframe\">\n",
       "  <thead>\n",
       "    <tr style=\"text-align: right;\">\n",
       "      <th></th>\n",
       "      <th>Unnamed: 0</th>\n",
       "      <th>category</th>\n",
       "      <th>checkin_count</th>\n",
       "      <th>datetime</th>\n",
       "      <th>lat</th>\n",
       "      <th>lifetime_checkins</th>\n",
       "      <th>lifetime_unique_users</th>\n",
       "      <th>lng</th>\n",
       "      <th>postal_code</th>\n",
       "      <th>Districts</th>\n",
       "      <th>...</th>\n",
       "      <th>venue_name</th>\n",
       "      <th>time_bucket</th>\n",
       "      <th>simple_time</th>\n",
       "      <th>mapped_category</th>\n",
       "      <th>mapped_category_ints</th>\n",
       "      <th>predictions</th>\n",
       "      <th>week</th>\n",
       "      <th>simple_time_1</th>\n",
       "      <th>mapped_week</th>\n",
       "      <th>time_week</th>\n",
       "    </tr>\n",
       "  </thead>\n",
       "  <tbody>\n",
       "    <tr>\n",
       "      <th>0</th>\n",
       "      <td>0</td>\n",
       "      <td>City</td>\n",
       "      <td>18</td>\n",
       "      <td>2015-07-28 19:22:00</td>\n",
       "      <td>37.773836</td>\n",
       "      <td>88323</td>\n",
       "      <td>31292</td>\n",
       "      <td>-122.419624</td>\n",
       "      <td>94103</td>\n",
       "      <td>Mission</td>\n",
       "      <td>...</td>\n",
       "      <td>City of San Francisco</td>\n",
       "      <td>19</td>\n",
       "      <td>afternoon</td>\n",
       "      <td>Other</td>\n",
       "      <td>1</td>\n",
       "      <td>1</td>\n",
       "      <td>Tuesday</td>\n",
       "      <td>0</td>\n",
       "      <td>2</td>\n",
       "      <td>2</td>\n",
       "    </tr>\n",
       "  </tbody>\n",
       "</table>\n",
       "<p>1 rows × 21 columns</p>\n",
       "</div>"
      ],
      "text/plain": [
       "   Unnamed: 0 category  checkin_count             datetime        lat  \\\n",
       "0           0     City             18  2015-07-28 19:22:00  37.773836   \n",
       "\n",
       "   lifetime_checkins  lifetime_unique_users         lng  postal_code  \\\n",
       "0              88323                  31292 -122.419624        94103   \n",
       "\n",
       "  Districts    ...                 venue_name time_bucket  simple_time  \\\n",
       "0   Mission    ...      City of San Francisco          19    afternoon   \n",
       "\n",
       "  mapped_category  mapped_category_ints  predictions     week simple_time_1  \\\n",
       "0            Other                    1            1  Tuesday             0   \n",
       "\n",
       "   mapped_week  time_week  \n",
       "0            2          2  \n",
       "\n",
       "[1 rows x 21 columns]"
      ]
     },
     "execution_count": 121,
     "metadata": {},
     "output_type": "execute_result"
    }
   ],
   "source": [
    "output.head(1)"
   ]
  },
  {
   "cell_type": "code",
   "execution_count": 128,
   "metadata": {
    "collapsed": false
   },
   "outputs": [
    {
     "data": {
      "text/plain": [
       "GridSearchCV(cv=5, error_score='raise',\n",
       "       estimator=DecisionTreeClassifier(class_weight=None, criterion='gini', max_depth=None,\n",
       "            max_features=None, max_leaf_nodes=None, min_samples_leaf=1,\n",
       "            min_samples_split=2, min_weight_fraction_leaf=0.0,\n",
       "            random_state=None, splitter='best'),\n",
       "       fit_params={}, iid=True, loss_func=None, n_jobs=1,\n",
       "       param_grid={'max_features': [1, 2], 'criterion': ['gini', 'entropy'], 'max_depth': [1, 2]},\n",
       "       pre_dispatch='2*n_jobs', refit=True, score_func=None,\n",
       "       scoring='accuracy', verbose=0)"
      ]
     },
     "execution_count": 128,
     "metadata": {},
     "output_type": "execute_result"
    }
   ],
   "source": [
    "from sklearn.grid_search import GridSearchCV\n",
    "depth_range = range(1, 3)\n",
    "criterion_range = ['gini', 'entropy']\n",
    "max_feature_range = range(1,3)\n",
    "param_grid = dict(max_depth=depth_range, criterion=criterion_range, max_features=max_feature_range)\n",
    "grid = GridSearchCV(ctree, param_grid, cv=5, scoring='accuracy', verbose=0)\n",
    "features = ['time_bucket', 'mapped_week', 'time_week']\n",
    "X = output[features]\n",
    "y = output['Districts']\n",
    "grid.fit(X, y)"
   ]
  },
  {
   "cell_type": "code",
   "execution_count": 126,
   "metadata": {
    "collapsed": false
   },
   "outputs": [
    {
     "data": {
      "text/plain": [
       "array([ 0.37442683,  0.37721474,  0.24835844])"
      ]
     },
     "execution_count": 126,
     "metadata": {},
     "output_type": "execute_result"
    }
   ],
   "source": [
    "ctree = tree.DecisionTreeClassifier()\n",
    "ctree.fit(X, y)\n",
    "ctree.feature_importances_"
   ]
  },
  {
   "cell_type": "code",
   "execution_count": 129,
   "metadata": {
    "collapsed": false
   },
   "outputs": [
    {
     "data": {
      "text/plain": [
       "0.14376418187572071"
      ]
     },
     "execution_count": 129,
     "metadata": {},
     "output_type": "execute_result"
    }
   ],
   "source": [
    "cross_val_score(ctree, X, y, cv=10, scoring='accuracy').mean()"
   ]
  },
  {
   "cell_type": "code",
   "execution_count": 103,
   "metadata": {
    "collapsed": false
   },
   "outputs": [
    {
     "data": {
      "text/plain": [
       "SVC(C=1.0, cache_size=200, class_weight=None, coef0=0.0, degree=3, gamma=0.0,\n",
       "  kernel='rbf', max_iter=-1, probability=False, random_state=None,\n",
       "  shrinking=True, tol=0.001, verbose=False)"
      ]
     },
     "execution_count": 103,
     "metadata": {},
     "output_type": "execute_result"
    }
   ],
   "source": [
    "from sklearn import svm, linear_model, datasets\n",
    "clf = svm.SVC()\n",
    "clf.fit(X,y)"
   ]
  },
  {
   "cell_type": "code",
   "execution_count": 123,
   "metadata": {
    "collapsed": false
   },
   "outputs": [
    {
     "data": {
      "text/plain": [
       "0.27452536028245211"
      ]
     },
     "execution_count": 123,
     "metadata": {},
     "output_type": "execute_result"
    }
   ],
   "source": [
    "cross_val_score(clf, X, y, cv=10, scoring='accuracy').mean()"
   ]
  },
  {
   "cell_type": "code",
   "execution_count": 113,
   "metadata": {
    "collapsed": false
   },
   "outputs": [
    {
     "data": {
      "text/plain": [
       "RandomForestClassifier(bootstrap=True, class_weight=None, criterion='gini',\n",
       "            max_depth=None, max_features='auto', max_leaf_nodes=None,\n",
       "            min_samples_leaf=1, min_samples_split=2,\n",
       "            min_weight_fraction_leaf=0.0, n_estimators=100, n_jobs=1,\n",
       "            oob_score=True, random_state=1, verbose=0, warm_start=False)"
      ]
     },
     "execution_count": 113,
     "metadata": {},
     "output_type": "execute_result"
    }
   ],
   "source": [
    "from sklearn.ensemble import RandomForestClassifier\n",
    "rfclf = RandomForestClassifier(n_estimators=100, max_features='auto', oob_score=True, random_state=1)\n",
    "rfclf.fit(X, y)"
   ]
  },
  {
   "cell_type": "code",
   "execution_count": 93,
   "metadata": {
    "collapsed": false
   },
   "outputs": [
    {
     "data": {
      "text/plain": [
       "0.46024799416484319"
      ]
     },
     "execution_count": 93,
     "metadata": {},
     "output_type": "execute_result"
    }
   ],
   "source": [
    "rfclf.oob_score_"
   ]
  },
  {
   "cell_type": "code",
   "execution_count": 114,
   "metadata": {
    "collapsed": false
   },
   "outputs": [
    {
     "data": {
      "text/plain": [
       "0.15840052727642884"
      ]
     },
     "execution_count": 114,
     "metadata": {},
     "output_type": "execute_result"
    }
   ],
   "source": [
    "cross_val_score(rfclf, X, y, cv=10, scoring='accuracy').mean()"
   ]
  }
 ],
 "metadata": {
  "kernelspec": {
   "display_name": "Python 2",
   "language": "python",
   "name": "python2"
  },
  "language_info": {
   "codemirror_mode": {
    "name": "ipython",
    "version": 2
   },
   "file_extension": ".py",
   "mimetype": "text/x-python",
   "name": "python",
   "nbconvert_exporter": "python",
   "pygments_lexer": "ipython2",
   "version": "2.7.10"
  }
 },
 "nbformat": 4,
 "nbformat_minor": 0
}
